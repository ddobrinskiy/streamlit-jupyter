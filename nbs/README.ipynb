{
 "cells": [
  {
   "attachments": {},
   "cell_type": "markdown",
   "metadata": {},
   "source": [
    "# streamlit-jupyter\n",
    "\n",
    "> Simple Python package to preview and develop streamlit apps in jupyter notebooks"
   ]
  },
  {
   "attachments": {},
   "cell_type": "markdown",
   "metadata": {},
   "source": [
    "<img src=\"./images/logo.png\" width=99%>\n",
    "\n",
    "[<img src=\"https://github.com/ddobrinskiy/streamlit-jupyter/actions/workflows/test.yaml/badge.svg\">](https://github.com/ddobrinskiy/streamlit-jupyter/actions)"
   ]
  },
  {
   "attachments": {},
   "cell_type": "markdown",
   "metadata": {},
   "source": [
    "## Docs & links\n",
    "\n",
    "- Detailed docs for this library can be found at [ddobrinskiy.github.io/streamlit-jupyter](https://ddobrinskiy.github.io/streamlit-jupyter)\n",
    "\n",
    "- ToDos on [github project](https://github.com/users/ddobrinskiy/projects/4/views/1)\n",
    "\n",
    "- The rest of this README provides a quick overview of the library."
   ]
  },
  {
   "cell_type": "markdown",
   "metadata": {},
   "source": [
    "## Install"
   ]
  },
  {
   "cell_type": "markdown",
   "metadata": {},
   "source": [
    "```sh\n",
    "pip install streamlit_jupyter\n",
    "```"
   ]
  },
  {
   "attachments": {},
   "cell_type": "markdown",
   "metadata": {},
   "source": [
    "## How to use\n",
    "\n",
    "Take a look at our [example notebook](./examples/99_example.ipynb)\n",
    "\n",
    "The main idea is for you do experiment and develop in your notebook, visually see all the pieces, and then convert the notebook to `.py` to be run by streamlit"
   ]
  },
  {
   "attachments": {},
   "cell_type": "markdown",
   "metadata": {},
   "source": [
    "start by importing streamlit and patching it with streamlit-jupyter:"
   ]
  },
  {
   "cell_type": "code",
   "execution_count": null,
   "metadata": {},
   "outputs": [],
   "source": [
    "import streamlit as st\n",
    "\n",
    "from streamlit_jupyter import StreamlitPatcher, tqdm\n",
    "\n",
    "StreamlitPatcher().jupyter()  # register streamlit with jupyter-compatible wrappers"
   ]
  },
  {
   "cell_type": "markdown",
   "metadata": {},
   "source": [
    "And now develop your notebook as usual, but with the ability to use Streamlit widgets and components.\n",
    "\n",
    "See how it works below, and check out the [example notebook](./examples/99_example.ipynb)"
   ]
  },
  {
   "attachments": {},
   "cell_type": "markdown",
   "metadata": {},
   "source": [
    "## Currently supported methods\n",
    "\n",
    "Refer to excellent [streamlit docs](https://docs.streamlit.io/library/api-reference) for more details on each method"
   ]
  },
  {
   "cell_type": "code",
   "execution_count": null,
   "metadata": {},
   "outputs": [],
   "source": [
    "# |echo: false\n",
    "# |exec_doc\n",
    "import pandas as pd\n",
    "from IPython.display import Markdown, display\n",
    "\n",
    "sp = StreamlitPatcher()\n",
    "\n",
    "\n",
    "def _get_first_docstring_line(m: str) -> str:\n",
    "    \"\"\"_summary_\n",
    "\n",
    "    Parameters\n",
    "    ----------\n",
    "    m : str\n",
    "        name of method\n",
    "\n",
    "    Returns\n",
    "    -------\n",
    "    str\n",
    "        first line of docstring\n",
    "    \"\"\"\n",
    "    return getattr(st, m).__doc__.split(\"\\n\")[0]\n",
    "\n",
    "\n",
    "df_methods = (\n",
    "    pd.DataFrame.from_records(\n",
    "        [(m, _get_first_docstring_line(m)) for m in sp.MAPPING.keys()],\n",
    "        columns=[\"method\", \"docstring\"],\n",
    "    )\n",
    "    .pipe(lambda _df: _df.assign(method=_df.method.apply(lambda m: f\"`st.{m}`\")))\n",
    "    .sort_values(\"method\")\n",
    ")\n",
    "\n",
    "display(Markdown(df_methods.to_markdown(index=False)))"
   ]
  },
  {
   "attachments": {},
   "cell_type": "markdown",
   "metadata": {},
   "source": [
    "## Currently **un**supported methods\n",
    "\n",
    "Most of the other methods are not supported yet.\n",
    "\n",
    "If you need any of them, you have one of 2 options:\n",
    "\n",
    "- please open an issue or a PR\n",
    "\n",
    "- use them in your notebook regardless, they will still work once you convert your notebook to streamlit. You just won't be able to preview them in jupyter."
   ]
  },
  {
   "attachments": {},
   "cell_type": "markdown",
   "metadata": {},
   "source": [
    "## Demonstration\n",
    "\n",
    "\n",
    "\n",
    "|  | <img src=\"./images/favicon_jupyter.ico\" width=\"30\" /> Jupyter | <img src=\"./images/favicon_streamlit.ico\" height=\"25\" /> Streamlit  |\n",
    "|:----------------------:|:------------------------------:|:---------------------------------:|\n",
    "| Markdown and headings  |![alt](images/img1_jupyter.png) | ![alt](images/img1_streamlit.png) |\n",
    "| Interactive data entry |![alt](images/img2_jupyter.png) | ![alt](images/img2_streamlit.png) |\n",
    "| Pick and choose        |![alt](images/img5_jupyter.gif) | ![alt](images/img5_streamlit.gif) |\n",
    "| Dataframes, caching and progress bars |![alt](images/img3_jupyter.gif) | ![alt](images/img3_streamlit.gif) |\n",
    "| Plots                  |![alt](images/img4_jupyter.png) | ![alt](images/img4_streamlit.png) |\n"
   ]
  },
  {
   "cell_type": "markdown",
   "metadata": {},
   "source": []
  }
 ],
 "metadata": {
  "kernelspec": {
   "display_name": "streamlit-jupyter-lqlnUict",
   "language": "python",
   "name": "python3"
  }
 },
 "nbformat": 4,
 "nbformat_minor": 4
}
