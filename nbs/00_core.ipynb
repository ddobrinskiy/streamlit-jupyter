{
 "cells": [
  {
   "attachments": {},
   "cell_type": "markdown",
   "metadata": {},
   "source": [
    "# core \n",
    "\n",
    "> modifying streamlit methods to play nice with jupyter\n",
    "\n",
    "Currently streamlit expects to find itself in a standalone python script, and will not work in a jupyter notebook. This is because streamlit is a web app, and jupyter notebooks are not.\n",
    "\n",
    "To get around this, we can use the `get_ipython` method to check if we are in a jupyter notebook, and if so, we can use the `display` method to display the streamlit app in the notebook.\n",
    "\n",
    "This allows us to interactively code in our jupyter notebook and see how our streamlit app will look in real time."
   ]
  },
  {
   "cell_type": "code",
   "execution_count": null,
   "metadata": {},
   "outputs": [],
   "source": [
    "# | default_exp core"
   ]
  },
  {
   "cell_type": "code",
   "execution_count": null,
   "metadata": {},
   "outputs": [],
   "source": [
    "# | export\n",
    "\n",
    "import functools\n",
    "import logging\n",
    "import time\n",
    "import typing as tp\n",
    "from datetime import datetime\n",
    "\n",
    "import IPython.display\n",
    "import ipywidgets as widgets\n",
    "import pandas as pd\n",
    "import streamlit as st\n",
    "from fastcore.basics import in_ipython, listify, noop, patch, patch_to\n",
    "from fastcore.test import test_eq, test_fail\n",
    "from IPython.utils.capture import capture_output\n",
    "from nbdev.showdoc import show_doc"
   ]
  },
  {
   "cell_type": "code",
   "execution_count": null,
   "metadata": {},
   "outputs": [],
   "source": [
    "# | exporti\n",
    "from logging import getLogger\n",
    "\n",
    "logger = getLogger(__name__)"
   ]
  },
  {
   "cell_type": "code",
   "execution_count": null,
   "metadata": {},
   "outputs": [],
   "source": [
    "# | export\n",
    "\n",
    "# module obljects that we will be importing\n",
    "IN_IPYTHON = in_ipython()"
   ]
  },
  {
   "cell_type": "code",
   "execution_count": null,
   "metadata": {},
   "outputs": [],
   "source": [
    "assert IN_IPYTHON, \"This module is intended to be used in a Jupyter notebook\""
   ]
  },
  {
   "attachments": {},
   "cell_type": "markdown",
   "metadata": {},
   "source": [
    "## Calling tqdm as tqdm.notebook or stqdm depending on environment"
   ]
  },
  {
   "cell_type": "code",
   "execution_count": null,
   "metadata": {},
   "outputs": [],
   "source": [
    "# | export\n",
    "if IN_IPYTHON:\n",
    "    from tqdm.notebook import tqdm\n",
    "else:\n",
    "    from stqdm import stqdm as tqdm\n",
    "\n",
    "tqdm = tqdm  # make this available in the module namespace"
   ]
  },
  {
   "cell_type": "code",
   "execution_count": null,
   "metadata": {},
   "outputs": [],
   "source": [
    "# | export\n",
    "\n",
    "\n",
    "class StreamlitPatcher:\n",
    "    \"\"\"class to patch streamlit functions for displaying content in jupyter notebooks\"\"\"\n",
    "\n",
    "    def __init__(self):\n",
    "        self.is_registered: bool = False\n",
    "        self.registered_methods: tp.Set[str] = set()\n",
    "\n",
    "    def jupyter(self, verbose: bool = False):\n",
    "        \"\"\"patches streamlit methods to display content in jupyter notebooks\"\"\"\n",
    "        # patch streamlit methods from MAPPING property dict\n",
    "        for method_name, wrapper in self.MAPPING.items():\n",
    "            self._wrap(method_name, wrapper, verbose=verbose)\n",
    "\n",
    "        self.is_registered = True\n",
    "\n",
    "    @staticmethod\n",
    "    def _get_streamlit_methods():\n",
    "        \"\"\"get all streamlit methods\"\"\"\n",
    "        return [attr for attr in dir(st) if not attr.startswith(\"_\")]"
   ]
  },
  {
   "cell_type": "code",
   "execution_count": null,
   "metadata": {},
   "outputs": [],
   "source": []
  },
  {
   "attachments": {},
   "cell_type": "markdown",
   "metadata": {},
   "source": [
    "## _wrap method to patch streamlit methods"
   ]
  },
  {
   "cell_type": "code",
   "execution_count": null,
   "metadata": {},
   "outputs": [],
   "source": [
    "# | exporti\n",
    "@patch_to(StreamlitPatcher, cls_method=False)\n",
    "def _wrap(\n",
    "    cls,\n",
    "    method_name: str,\n",
    "    wrapper: tp.Callable,\n",
    "    forced_wrapper_name: tp.Optional[str] = \"\",\n",
    "    verbose: bool = False,\n",
    ") -> None:\n",
    "    \"\"\"make a streamlit method jupyter friendly\n",
    "\n",
    "    Parameters\n",
    "    ----------\n",
    "    method_name : str\n",
    "        which method to jupyterify\n",
    "    wrapper : tp.Callable\n",
    "        wrapper function to use\n",
    "    \"\"\"\n",
    "    if IN_IPYTHON:  # only patch if in jupyter\n",
    "        if verbose:\n",
    "            if hasattr(wrapper, \"__name__\"):\n",
    "                print(\n",
    "                    f\"wrapping 'st.{method_name}' with 'streamlit_jupyter.core.{wrapper.__name__}'\"\n",
    "                )\n",
    "            else:\n",
    "                print(\n",
    "                    f\"wrapping 'st.{method_name}' with 'streamlit_jupyter.core.{wrapper}'\"\n",
    "                )\n",
    "\n",
    "        trg = getattr(st, method_name)\n",
    "        setattr(st, method_name, wrapper(trg))\n",
    "        cls.registered_methods.add(method_name)\n",
    "    else:  # otherwise do nothing\n",
    "        pass"
   ]
  },
  {
   "cell_type": "code",
   "execution_count": null,
   "metadata": {},
   "outputs": [],
   "source": [
    "sp = StreamlitPatcher()\n",
    "\n",
    "assert not sp.is_registered, \"StreamlitPatcher is already registered\""
   ]
  },
  {
   "cell_type": "code",
   "execution_count": null,
   "metadata": {},
   "outputs": [
    {
     "data": {
      "text/markdown": [
       "---\n",
       "\n",
       "[source](https://github.com/ddobrinskiy/streamlit-jupyter/blob/master/streamlit_jupyter/core.py#L71){target=\"_blank\" style=\"float:right; font-size:smaller\"}\n",
       "\n",
       "### StreamlitPatcher._wrap\n",
       "\n",
       ">      StreamlitPatcher._wrap (cls, method_name:str, wrapper:Callable,\n",
       ">                              forced_wrapper_name:Union[str,NoneType]='',\n",
       ">                              verbose:bool=False)\n",
       "\n",
       "make a streamlit method jupyter friendly\n",
       "\n",
       "|    | **Type** | **Default** | **Details** |\n",
       "| -- | -------- | ----------- | ----------- |\n",
       "| cls |  |  |  |\n",
       "| method_name | str |  | which method to jupyterify |\n",
       "| wrapper | typing.Callable |  | wrapper function to use |\n",
       "| forced_wrapper_name | typing.Union[str, NoneType] |  |  |\n",
       "| verbose | bool | False |  |\n",
       "| **Returns** | **None** |  |  |"
      ],
      "text/plain": [
       "---\n",
       "\n",
       "[source](https://github.com/ddobrinskiy/streamlit-jupyter/blob/master/streamlit_jupyter/core.py#L71){target=\"_blank\" style=\"float:right; font-size:smaller\"}\n",
       "\n",
       "### StreamlitPatcher._wrap\n",
       "\n",
       ">      StreamlitPatcher._wrap (cls, method_name:str, wrapper:Callable,\n",
       ">                              forced_wrapper_name:Union[str,NoneType]='',\n",
       ">                              verbose:bool=False)\n",
       "\n",
       "make a streamlit method jupyter friendly\n",
       "\n",
       "|    | **Type** | **Default** | **Details** |\n",
       "| -- | -------- | ----------- | ----------- |\n",
       "| cls |  |  |  |\n",
       "| method_name | str |  | which method to jupyterify |\n",
       "| wrapper | typing.Callable |  | wrapper function to use |\n",
       "| forced_wrapper_name | typing.Union[str, NoneType] |  |  |\n",
       "| verbose | bool | False |  |\n",
       "| **Returns** | **None** |  |  |"
      ]
     },
     "execution_count": null,
     "metadata": {},
     "output_type": "execute_result"
    }
   ],
   "source": [
    "show_doc(StreamlitPatcher._wrap)"
   ]
  },
  {
   "attachments": {},
   "cell_type": "markdown",
   "metadata": {},
   "source": [
    "## Modifying streamlit\n",
    "\n",
    "The way we will modify streamlit methods is by putting them through a decorator. This decorator will check if we are in a jupyter notebook, and if so, it will take the input and display it in the notebook. \n",
    "\n",
    "Else it will use the original streamlit method."
   ]
  },
  {
   "attachments": {},
   "cell_type": "markdown",
   "metadata": {},
   "source": [
    "### st.write"
   ]
  },
  {
   "cell_type": "code",
   "execution_count": null,
   "metadata": {},
   "outputs": [],
   "source": [
    "# | exporti\n",
    "\n",
    "\n",
    "def _display(arg: tp.Any) -> None:\n",
    "    if isinstance(arg, str):\n",
    "        IPython.display.display(IPython.display.Markdown(arg))\n",
    "    else:\n",
    "        IPython.display.display(arg)\n",
    "\n",
    "\n",
    "def _st_write(func_to_decorate):\n",
    "    \"\"\"Decorator to display objects passed to Streamlit in Jupyter notebooks.\"\"\"\n",
    "\n",
    "    @functools.wraps(func_to_decorate)\n",
    "    def wrapper(*args, **kwargs):\n",
    "        for arg in args:\n",
    "            _display(arg)\n",
    "\n",
    "    return wrapper"
   ]
  },
  {
   "cell_type": "code",
   "execution_count": null,
   "metadata": {},
   "outputs": [
    {
     "data": {
      "text/markdown": [
       "hello"
      ],
      "text/plain": [
       "<IPython.core.display.Markdown object>"
      ]
     },
     "metadata": {},
     "output_type": "display_data"
    }
   ],
   "source": [
    "sp._wrap(\"write\", _st_write)\n",
    "\n",
    "with capture_output() as cap:\n",
    "    st.write(\"hello\")\n",
    "    got = cap._outputs[0][\"data\"]\n",
    "\n",
    "expected = {\n",
    "    \"text/plain\": \"<IPython.core.display.Markdown object>\",\n",
    "    \"text/markdown\": \"hello\",\n",
    "}\n",
    "assert got == expected, \"check that the output is correct\"\n",
    "\n",
    "st.write(\"hello\")"
   ]
  },
  {
   "cell_type": "code",
   "execution_count": null,
   "metadata": {},
   "outputs": [
    {
     "data": {
      "text/markdown": [
       "This is **bold** text in markdown"
      ],
      "text/plain": [
       "<IPython.core.display.Markdown object>"
      ]
     },
     "metadata": {},
     "output_type": "display_data"
    }
   ],
   "source": [
    "st.write(\"This is **bold** text in markdown\")"
   ]
  },
  {
   "cell_type": "code",
   "execution_count": null,
   "metadata": {},
   "outputs": [
    {
     "data": {
      "text/html": [
       "<div>\n",
       "<style scoped>\n",
       "    .dataframe tbody tr th:only-of-type {\n",
       "        vertical-align: middle;\n",
       "    }\n",
       "\n",
       "    .dataframe tbody tr th {\n",
       "        vertical-align: top;\n",
       "    }\n",
       "\n",
       "    .dataframe thead th {\n",
       "        text-align: right;\n",
       "    }\n",
       "</style>\n",
       "<table border=\"1\" class=\"dataframe\">\n",
       "  <thead>\n",
       "    <tr style=\"text-align: right;\">\n",
       "      <th></th>\n",
       "      <th>a</th>\n",
       "      <th>b</th>\n",
       "    </tr>\n",
       "  </thead>\n",
       "  <tbody>\n",
       "    <tr>\n",
       "      <th>0</th>\n",
       "      <td>1</td>\n",
       "      <td>4</td>\n",
       "    </tr>\n",
       "    <tr>\n",
       "      <th>1</th>\n",
       "      <td>2</td>\n",
       "      <td>5</td>\n",
       "    </tr>\n",
       "    <tr>\n",
       "      <th>2</th>\n",
       "      <td>3</td>\n",
       "      <td>6</td>\n",
       "    </tr>\n",
       "  </tbody>\n",
       "</table>\n",
       "</div>"
      ],
      "text/plain": [
       "   a  b\n",
       "0  1  4\n",
       "1  2  5\n",
       "2  3  6"
      ]
     },
     "metadata": {},
     "output_type": "display_data"
    }
   ],
   "source": [
    "try:\n",
    "    df = pd.DataFrame({\"a\": [1, 2, 3], \"b\": [4, 5, 6]})\n",
    "    st.write(df)\n",
    "except ImportError:\n",
    "    logger.warning(\"Pandas not installed, skipping test\")"
   ]
  },
  {
   "cell_type": "code",
   "execution_count": null,
   "metadata": {},
   "outputs": [],
   "source": [
    "assert sp.registered_methods == {\"write\"}, \"check that the method is registered\""
   ]
  },
  {
   "attachments": {},
   "cell_type": "markdown",
   "metadata": {},
   "source": [
    "### patching headings\n",
    "\n",
    "- `st.title`\n",
    "- `st.header`\n",
    "- `st.subheader`"
   ]
  },
  {
   "cell_type": "code",
   "execution_count": null,
   "metadata": {},
   "outputs": [],
   "source": [
    "# | exporti\n",
    "def _st_heading(func_to_decorate: tp.Callable, tag: str) -> tp.Callable:\n",
    "    \"\"\"Decorator to display objects passed to Streamlit in Jupyter notebooks.\"\"\"\n",
    "\n",
    "    @functools.wraps(func_to_decorate)\n",
    "    def wrapper(*args, **kwargs):\n",
    "        if len(args) == 1:\n",
    "            body = args[0]\n",
    "        elif len(args) == 2:\n",
    "            body, anchor = args\n",
    "        elif len(args) > 2:\n",
    "            raise ValueError(\n",
    "                f\"Too many positional arguments: {len(args)}, {func_to_decorate.__name__} only accepts 2\"\n",
    "            )\n",
    "        elif len(args) == 0:\n",
    "            if \"body\" not in kwargs:\n",
    "                raise ValueError(\n",
    "                    f\"Missing required argument: body, {func_to_decorate.__name__} requires a body\"\n",
    "                )\n",
    "            body = kwargs[\"body\"]\n",
    "\n",
    "        if isinstance(body, str):\n",
    "            _display(f\"{tag} {body}\")\n",
    "        else:\n",
    "            raise TypeError(\n",
    "                f\"Unsupported type: {type(body)}, {func_to_decorate.__name__} only accepts strings\"\n",
    "            )\n",
    "\n",
    "    return wrapper"
   ]
  },
  {
   "cell_type": "code",
   "execution_count": null,
   "metadata": {},
   "outputs": [],
   "source": [
    "sp = StreamlitPatcher()\n",
    "sp._wrap(\"title\", functools.partial(_st_heading, tag=\"#\"))\n",
    "sp._wrap(\"header\", functools.partial(_st_heading, tag=\"##\"))\n",
    "sp._wrap(\"subheader\", functools.partial(_st_heading, tag=\"###\"))"
   ]
  },
  {
   "cell_type": "code",
   "execution_count": null,
   "metadata": {},
   "outputs": [],
   "source": [
    "with capture_output() as cap:\n",
    "    st.title(\"foo\")\n",
    "    got = cap._outputs[0][\"data\"][\"text/markdown\"]\n",
    "\n",
    "test_eq(got, \"# foo\")"
   ]
  },
  {
   "cell_type": "code",
   "execution_count": null,
   "metadata": {},
   "outputs": [],
   "source": [
    "with capture_output() as cap:\n",
    "    st.header(\"foo\")\n",
    "    got = cap._outputs[0][\"data\"][\"text/markdown\"]\n",
    "\n",
    "test_eq(got, \"## foo\")"
   ]
  },
  {
   "cell_type": "code",
   "execution_count": null,
   "metadata": {},
   "outputs": [],
   "source": [
    "with capture_output() as cap:\n",
    "    st.subheader(\"foo\")\n",
    "    got = cap._outputs[0][\"data\"][\"text/markdown\"]\n",
    "\n",
    "test_eq(got, \"### foo\")"
   ]
  },
  {
   "cell_type": "code",
   "execution_count": null,
   "metadata": {},
   "outputs": [],
   "source": [
    "# these should fail\n",
    "\n",
    "test_fail(lambda: st.title(df), contains=\"Unsupported type\")\n",
    "test_fail(lambda: st.header(df), contains=\"Unsupported type\")\n",
    "test_fail(lambda: st.subheader(df), contains=\"Unsupported type\")\n",
    "test_fail(lambda: st.subheader(1), contains=\"Unsupported type\")"
   ]
  },
  {
   "attachments": {},
   "cell_type": "markdown",
   "metadata": {},
   "source": [
    "### patch some methods to simply display the input in jupyter "
   ]
  },
  {
   "cell_type": "code",
   "execution_count": null,
   "metadata": {},
   "outputs": [],
   "source": [
    "# | exporti\n",
    "def _st_type_check(\n",
    "    func_to_decorate: tp.Callable,\n",
    "    allowed_types: tp.Union[tp.Type, tp.Collection[tp.Type]],\n",
    ") -> tp.Callable:\n",
    "    \"\"\"Decorator to display objects passed to Streamlit in Jupyter notebooks.\"\"\"\n",
    "    allowed_types = listify(allowed_types)  # make sure it's a list\n",
    "\n",
    "    @functools.wraps(func_to_decorate)\n",
    "    def wrapper(*args, **kwargs):\n",
    "        if len(args) == 1:\n",
    "            body = args[0]\n",
    "        elif len(args) > 1:\n",
    "            raise ValueError(\n",
    "                f\"Too many positional arguments: {len(args)}, {func_to_decorate.__name__} only accepts 2\"\n",
    "            )\n",
    "        elif len(args) == 0:\n",
    "            if kwargs:\n",
    "                raise NotImplementedError(\n",
    "                    f\"kwargs not supported yet, 'streamlit_data_science.utils._wrap_st_type_check' only accepts positional arguments\"\n",
    "                )\n",
    "            else:\n",
    "                raise ValueError(f\"at least one positional argument is required\")\n",
    "\n",
    "        if type(body) in allowed_types:\n",
    "            _display(body)\n",
    "        else:\n",
    "            raise TypeError(\n",
    "                f\"Unsupported type: {type(body)}, {func_to_decorate.__name__} only accepts {allowed_types}\"\n",
    "            )\n",
    "\n",
    "    return wrapper"
   ]
  },
  {
   "cell_type": "code",
   "execution_count": null,
   "metadata": {},
   "outputs": [
    {
     "data": {
      "text/markdown": [
       "This is **bold** text in markdown"
      ],
      "text/plain": [
       "<IPython.core.display.Markdown object>"
      ]
     },
     "metadata": {},
     "output_type": "display_data"
    }
   ],
   "source": [
    "sp._wrap(\"markdown\", functools.partial(_st_type_check, allowed_types=str))\n",
    "\n",
    "test_fail(lambda: st.markdown(df), contains=\"Unsupported type\")\n",
    "st.markdown(\"This is **bold** text in markdown\")"
   ]
  },
  {
   "cell_type": "code",
   "execution_count": null,
   "metadata": {},
   "outputs": [
    {
     "data": {
      "text/html": [
       "<div>\n",
       "<style scoped>\n",
       "    .dataframe tbody tr th:only-of-type {\n",
       "        vertical-align: middle;\n",
       "    }\n",
       "\n",
       "    .dataframe tbody tr th {\n",
       "        vertical-align: top;\n",
       "    }\n",
       "\n",
       "    .dataframe thead th {\n",
       "        text-align: right;\n",
       "    }\n",
       "</style>\n",
       "<table border=\"1\" class=\"dataframe\">\n",
       "  <thead>\n",
       "    <tr style=\"text-align: right;\">\n",
       "      <th></th>\n",
       "      <th>a</th>\n",
       "      <th>b</th>\n",
       "    </tr>\n",
       "  </thead>\n",
       "  <tbody>\n",
       "    <tr>\n",
       "      <th>0</th>\n",
       "      <td>1</td>\n",
       "      <td>4</td>\n",
       "    </tr>\n",
       "    <tr>\n",
       "      <th>1</th>\n",
       "      <td>2</td>\n",
       "      <td>5</td>\n",
       "    </tr>\n",
       "    <tr>\n",
       "      <th>2</th>\n",
       "      <td>3</td>\n",
       "      <td>6</td>\n",
       "    </tr>\n",
       "  </tbody>\n",
       "</table>\n",
       "</div>"
      ],
      "text/plain": [
       "   a  b\n",
       "0  1  4\n",
       "1  2  5\n",
       "2  3  6"
      ]
     },
     "metadata": {},
     "output_type": "display_data"
    }
   ],
   "source": [
    "sp._wrap(\"dataframe\", functools.partial(_st_type_check, allowed_types=pd.DataFrame))\n",
    "test_fail(lambda: st.dataframe(\"foo\"), contains=\"Unsupported type\")\n",
    "st.dataframe(df)"
   ]
  },
  {
   "attachments": {},
   "cell_type": "markdown",
   "metadata": {},
   "source": [
    "### st.code"
   ]
  },
  {
   "cell_type": "code",
   "execution_count": null,
   "metadata": {},
   "outputs": [
    {
     "data": {
      "text/markdown": [
       "```python\n",
       "print(1+1)\n",
       "```\n"
      ],
      "text/plain": [
       "<IPython.core.display.Markdown object>"
      ]
     },
     "metadata": {},
     "output_type": "display_data"
    }
   ],
   "source": [
    "_display(\n",
    "    \"\"\"```python\n",
    "print(1+1)\n",
    "```\n",
    "\"\"\"\n",
    ")"
   ]
  },
  {
   "cell_type": "code",
   "execution_count": null,
   "metadata": {},
   "outputs": [],
   "source": [
    "# | exporti\n",
    "def _st_code(func_to_decorate):\n",
    "    @functools.wraps(func_to_decorate)\n",
    "    def wrapper(*args, **kwargs):\n",
    "        if len(args) == 1:\n",
    "            body = args[0]\n",
    "            language = kwargs[\"language\"] if \"language\" in kwargs else \"python\"\n",
    "        elif len(args) == 2:\n",
    "            body, language = args\n",
    "\n",
    "        if isinstance(body, str):\n",
    "            _display(f\"```{language}\\n{body}\\n```\")\n",
    "        else:\n",
    "            raise TypeError(\n",
    "                f\"Unsupported type: {type(body)}, {func_to_decorate.__name__} only accepts strings\"\n",
    "            )\n",
    "\n",
    "    return wrapper"
   ]
  },
  {
   "cell_type": "code",
   "execution_count": null,
   "metadata": {},
   "outputs": [],
   "source": [
    "sp._wrap(\"code\", _st_code)"
   ]
  },
  {
   "cell_type": "code",
   "execution_count": null,
   "metadata": {},
   "outputs": [
    {
     "data": {
      "text/markdown": [
       "```python\n",
       "\n",
       "def foo():\n",
       "    print('hello')\n",
       "\n",
       "```"
      ],
      "text/plain": [
       "<IPython.core.display.Markdown object>"
      ]
     },
     "metadata": {},
     "output_type": "display_data"
    }
   ],
   "source": [
    "st.code(\n",
    "    \"\"\"\n",
    "def foo():\n",
    "    print('hello')\n",
    "\"\"\"\n",
    ")"
   ]
  },
  {
   "cell_type": "code",
   "execution_count": null,
   "metadata": {},
   "outputs": [
    {
     "data": {
      "text/markdown": [
       "```None\n",
       "grep -r 'foo' .\n",
       "```"
      ],
      "text/plain": [
       "<IPython.core.display.Markdown object>"
      ]
     },
     "metadata": {},
     "output_type": "display_data"
    }
   ],
   "source": [
    "st.code(\"grep -r 'foo' .\", language=None)"
   ]
  },
  {
   "attachments": {},
   "cell_type": "markdown",
   "metadata": {},
   "source": [
    "### st.cache\n",
    "\n",
    "The `streamlitcache` method is used to cache the output of a function. This is useful for functions that take a long time to run, and we want to avoid running them every time we run the app.\n",
    "\n",
    "If we are in a jupyter notebook, we can't use the `streamlitcache` method, so we will replace the `streamlitcache` method with a dummy method that does nothing."
   ]
  },
  {
   "cell_type": "code",
   "execution_count": null,
   "metadata": {},
   "outputs": [],
   "source": [
    "# | exporti\n",
    "def _dummy_wrapper_noop(func_to_decorate):\n",
    "    @functools.wraps(func_to_decorate)\n",
    "    def wrapper(*args, **kwargs):\n",
    "        return noop  # castrate the function to do nothing\n",
    "\n",
    "    return wrapper"
   ]
  },
  {
   "cell_type": "code",
   "execution_count": null,
   "metadata": {},
   "outputs": [],
   "source": [
    "sp._wrap(\"cache\", _dummy_wrapper_noop)"
   ]
  },
  {
   "cell_type": "code",
   "execution_count": null,
   "metadata": {},
   "outputs": [],
   "source": [
    "# verify that during patching we didn't change the name or docstring\n",
    "assert st.cache.__name__ == \"cache\"\n",
    "assert \"@st.cache\" in tp.cast(\n",
    "    str, st.cache.__doc__\n",
    "), \"check that the docstring is correct\""
   ]
  },
  {
   "cell_type": "code",
   "execution_count": null,
   "metadata": {},
   "outputs": [
    {
     "data": {
      "text/markdown": [
       "Getting data..."
      ],
      "text/plain": [
       "<IPython.core.display.Markdown object>"
      ]
     },
     "metadata": {},
     "output_type": "display_data"
    },
    {
     "data": {
      "application/vnd.jupyter.widget-view+json": {
       "model_id": "0e749009ff4b480f8cbb4ae9966bae30",
       "version_major": 2,
       "version_minor": 0
      },
      "text/plain": [
       "  0%|          | 0/5 [00:00<?, ?it/s]"
      ]
     },
     "metadata": {},
     "output_type": "display_data"
    },
    {
     "data": {
      "text/html": [
       "<div>\n",
       "<style scoped>\n",
       "    .dataframe tbody tr th:only-of-type {\n",
       "        vertical-align: middle;\n",
       "    }\n",
       "\n",
       "    .dataframe tbody tr th {\n",
       "        vertical-align: top;\n",
       "    }\n",
       "\n",
       "    .dataframe thead th {\n",
       "        text-align: right;\n",
       "    }\n",
       "</style>\n",
       "<table border=\"1\" class=\"dataframe\">\n",
       "  <thead>\n",
       "    <tr style=\"text-align: right;\">\n",
       "      <th></th>\n",
       "      <th>c</th>\n",
       "      <th>d</th>\n",
       "    </tr>\n",
       "  </thead>\n",
       "  <tbody>\n",
       "    <tr>\n",
       "      <th>0</th>\n",
       "      <td>7</td>\n",
       "      <td>10</td>\n",
       "    </tr>\n",
       "    <tr>\n",
       "      <th>1</th>\n",
       "      <td>8</td>\n",
       "      <td>11</td>\n",
       "    </tr>\n",
       "    <tr>\n",
       "      <th>2</th>\n",
       "      <td>9</td>\n",
       "      <td>12</td>\n",
       "    </tr>\n",
       "  </tbody>\n",
       "</table>\n",
       "</div>"
      ],
      "text/plain": [
       "   c   d\n",
       "0  7  10\n",
       "1  8  11\n",
       "2  9  12"
      ]
     },
     "metadata": {},
     "output_type": "display_data"
    }
   ],
   "source": [
    "# test caching\n",
    "@st.cache(suppress_st_warning=True)\n",
    "def get_data():\n",
    "    st.write(\"Getting data...\")\n",
    "    for i in tqdm(range(5)):\n",
    "        time.sleep(0.1)\n",
    "    return pd.DataFrame({\"c\": [7, 8, 9], \"d\": [10, 11, 12]})\n",
    "\n",
    "\n",
    "df = get_data()\n",
    "st.write(df)"
   ]
  },
  {
   "cell_type": "code",
   "execution_count": null,
   "metadata": {},
   "outputs": [
    {
     "data": {
      "text/markdown": [
       "Getting data..."
      ],
      "text/plain": [
       "<IPython.core.display.Markdown object>"
      ]
     },
     "metadata": {},
     "output_type": "display_data"
    },
    {
     "data": {
      "application/vnd.jupyter.widget-view+json": {
       "model_id": "805eb4b2a70a4121831211f706d644ca",
       "version_major": 2,
       "version_minor": 0
      },
      "text/plain": [
       "  0%|          | 0/5 [00:00<?, ?it/s]"
      ]
     },
     "metadata": {},
     "output_type": "display_data"
    }
   ],
   "source": [
    "# test that the cache in jupyter does not affect get_data\n",
    "\n",
    "df = get_data()\n",
    "with capture_output() as cap:\n",
    "    st.write(df)\n",
    "    got = cap._outputs[0][\"data\"]\n",
    "\n",
    "expected = {\n",
    "    \"text/plain\": \"   c   d\\n0  7  10\\n1  8  11\\n2  9  12\",\n",
    "    \"text/html\": '<div>\\n<style scoped>\\n    .dataframe tbody tr th:only-of-type {\\n        vertical-align: middle;\\n    }\\n\\n    .dataframe tbody tr th {\\n        vertical-align: top;\\n    }\\n\\n    .dataframe thead th {\\n        text-align: right;\\n    }\\n</style>\\n<table border=\"1\" class=\"dataframe\">\\n  <thead>\\n    <tr style=\"text-align: right;\">\\n      <th></th>\\n      <th>c</th>\\n      <th>d</th>\\n    </tr>\\n  </thead>\\n  <tbody>\\n    <tr>\\n      <th>0</th>\\n      <td>7</td>\\n      <td>10</td>\\n    </tr>\\n    <tr>\\n      <th>1</th>\\n      <td>8</td>\\n      <td>11</td>\\n    </tr>\\n    <tr>\\n      <th>2</th>\\n      <td>9</td>\\n      <td>12</td>\\n    </tr>\\n  </tbody>\\n</table>\\n</div>',\n",
    "}\n",
    "\n",
    "assert got == expected, \"check that the output is correct\""
   ]
  },
  {
   "attachments": {},
   "cell_type": "markdown",
   "metadata": {},
   "source": [
    "### st.expander\n",
    "\n",
    "Note that this will be an exception from the usual wrapper logic.\n",
    "\n",
    "Since `st.expander` is used as a context manager, we replace it with a dummy class that displays the input in jupyter."
   ]
  },
  {
   "cell_type": "code",
   "execution_count": null,
   "metadata": {},
   "outputs": [],
   "source": [
    "# | exporti\n",
    "class _DummyExpander:\n",
    "    def __init__(self, label: str, expanded: bool = False):\n",
    "        self.label = label\n",
    "        self.expanded = expanded\n",
    "\n",
    "    def __enter__(self):\n",
    "        _display(f\">**expander starts**: {self.label}\")\n",
    "\n",
    "    def __exit__(self, *args):\n",
    "        _display(f\">**expander ends**\")\n",
    "\n",
    "\n",
    "def _st_expander(cls_to_replace: st.expander):\n",
    "    return _DummyExpander"
   ]
  },
  {
   "cell_type": "code",
   "execution_count": null,
   "metadata": {},
   "outputs": [],
   "source": [
    "sp._wrap(\"expander\", _st_expander)"
   ]
  },
  {
   "cell_type": "code",
   "execution_count": null,
   "metadata": {},
   "outputs": [
    {
     "data": {
      "text/markdown": [
       ">**expander starts**: Expand me!"
      ],
      "text/plain": [
       "<IPython.core.display.Markdown object>"
      ]
     },
     "metadata": {},
     "output_type": "display_data"
    },
    {
     "data": {
      "text/markdown": [
       "\n",
       "The **#30DaysOfStreamlit** is a coding challenge designed to help you get started in building Streamlit apps.\n",
       "\n",
       "Particularly, you'll be able to:\n",
       "- Set up a coding environment for building Streamlit apps\n",
       "- Build your first Streamlit app\n",
       "- Learn about all the awesome input/output widgets to use for your Streamlit app\n",
       "    "
      ],
      "text/plain": [
       "<IPython.core.display.Markdown object>"
      ]
     },
     "metadata": {},
     "output_type": "display_data"
    },
    {
     "data": {
      "text/markdown": [
       "**More text, we can expand as many streamlit elements as we want**"
      ],
      "text/plain": [
       "<IPython.core.display.Markdown object>"
      ]
     },
     "metadata": {},
     "output_type": "display_data"
    },
    {
     "data": {
      "text/markdown": [
       ">**expander ends**"
      ],
      "text/plain": [
       "<IPython.core.display.Markdown object>"
      ]
     },
     "metadata": {},
     "output_type": "display_data"
    }
   ],
   "source": [
    "with st.expander(\"Expand me!\", expanded=False):\n",
    "    st.markdown(\n",
    "        \"\"\"\n",
    "The **#30DaysOfStreamlit** is a coding challenge designed to help you get started in building Streamlit apps.\n",
    "\n",
    "Particularly, you'll be able to:\n",
    "- Set up a coding environment for building Streamlit apps\n",
    "- Build your first Streamlit app\n",
    "- Learn about all the awesome input/output widgets to use for your Streamlit app\n",
    "    \"\"\"\n",
    "    )\n",
    "\n",
    "    st.write(\"**More text, we can expand as many streamlit elements as we want**\")"
   ]
  },
  {
   "cell_type": "markdown",
   "metadata": {},
   "source": [
    "### st.text_input"
   ]
  },
  {
   "cell_type": "code",
   "execution_count": null,
   "metadata": {},
   "outputs": [],
   "source": [
    "# | exporti\n",
    "\n",
    "\n",
    "def _st_text_input(func_to_decorate):\n",
    "    \"\"\"Decorator to display date input in Jupyter notebooks.\"\"\"\n",
    "\n",
    "    @functools.wraps(func_to_decorate)\n",
    "    def wrapper(*args, **kwargs):\n",
    "        if len(args) == 1:\n",
    "            description = args[0]\n",
    "            if \"value\" in kwargs:\n",
    "                value = kwargs[\"value\"]\n",
    "            else:\n",
    "                value = None\n",
    "\n",
    "        elif len(args) == 2:\n",
    "            description, value = args\n",
    "\n",
    "        text = widgets.Textarea(\n",
    "            description=description,\n",
    "            value=value,\n",
    "            disabled=False,\n",
    "            placeholder=\"Type something\",\n",
    "        )\n",
    "\n",
    "        display(text)\n",
    "        return text.value\n",
    "\n",
    "    return wrapper"
   ]
  },
  {
   "cell_type": "code",
   "execution_count": null,
   "metadata": {},
   "outputs": [],
   "source": [
    "sp._wrap(\"text_input\", _st_text_input)\n",
    "sp._wrap(\"text_area\", _st_text_input)"
   ]
  },
  {
   "cell_type": "code",
   "execution_count": null,
   "metadata": {},
   "outputs": [
    {
     "data": {
      "application/vnd.jupyter.widget-view+json": {
       "model_id": "70bdda2af4af42dfb77a32b320cfa6aa",
       "version_major": 2,
       "version_minor": 0
      },
      "text/plain": [
       "Textarea(value='default text', description='String:', placeholder='Type something')"
      ]
     },
     "metadata": {},
     "output_type": "display_data"
    },
    {
     "data": {
      "text/plain": [
       "'default text'"
      ]
     },
     "execution_count": null,
     "metadata": {},
     "output_type": "execute_result"
    }
   ],
   "source": [
    "text = st.text_input(\"String:\", \"default text\")\n",
    "text"
   ]
  },
  {
   "cell_type": "code",
   "execution_count": null,
   "metadata": {},
   "outputs": [
    {
     "data": {
      "application/vnd.jupyter.widget-view+json": {
       "model_id": "bc58510528dd4f63bfcd314707a9dbe4",
       "version_major": 2,
       "version_minor": 0
      },
      "text/plain": [
       "Textarea(value='foo bar', description='Input:', placeholder='Type something')"
      ]
     },
     "metadata": {},
     "output_type": "display_data"
    },
    {
     "data": {
      "text/plain": [
       "'foo bar'"
      ]
     },
     "execution_count": null,
     "metadata": {},
     "output_type": "execute_result"
    }
   ],
   "source": [
    "text = st.text_area(\"Input:\", \"foo bar\")\n",
    "text"
   ]
  },
  {
   "attachments": {},
   "cell_type": "markdown",
   "metadata": {},
   "source": [
    "### st.date_input\n"
   ]
  },
  {
   "cell_type": "code",
   "execution_count": null,
   "metadata": {},
   "outputs": [],
   "source": [
    "# | exporti\n",
    "\n",
    "\n",
    "def _st_date_input(func_to_decorate):\n",
    "    \"\"\"Decorator to display date input in Jupyter notebooks.\"\"\"\n",
    "\n",
    "    @functools.wraps(func_to_decorate)\n",
    "    def wrapper(*args, **kwargs):\n",
    "        if len(args) == 1:\n",
    "            description = args[0]\n",
    "            if \"value\" in kwargs:\n",
    "                value = pd.to_datetime(kwargs[\"value\"]).date()\n",
    "            else:\n",
    "                value = datetime.now()\n",
    "\n",
    "        elif len(args) == 2:\n",
    "            description = args[0]\n",
    "            value = pd.to_datetime(args[1])\n",
    "\n",
    "        date = widgets.DatePicker(\n",
    "            description=description,\n",
    "            value=value,\n",
    "            disabled=False,\n",
    "        )\n",
    "\n",
    "        display(date)\n",
    "        return date.value\n",
    "\n",
    "    return wrapper"
   ]
  },
  {
   "cell_type": "code",
   "execution_count": null,
   "metadata": {},
   "outputs": [],
   "source": [
    "sp._wrap(\"date_input\", _st_date_input)"
   ]
  },
  {
   "attachments": {},
   "cell_type": "markdown",
   "metadata": {},
   "source": [
    "⚠️ Note the following limitation: when using this in jupyter, changing the date on your widget will not affect the date variable.\n",
    "\n",
    "Streamlit behavior will remain unchanged though"
   ]
  },
  {
   "cell_type": "code",
   "execution_count": null,
   "metadata": {},
   "outputs": [
    {
     "data": {
      "application/vnd.jupyter.widget-view+json": {
       "model_id": "60d47accbf4d4818bcf1d11872d826a5",
       "version_major": 2,
       "version_minor": 0
      },
      "text/plain": [
       "DatePicker(value=datetime.date(2022, 12, 13), description='Pick a date')"
      ]
     },
     "metadata": {},
     "output_type": "display_data"
    }
   ],
   "source": [
    "date = st.date_input(\"Pick a date\", value=\"2022-12-13\")"
   ]
  },
  {
   "cell_type": "code",
   "execution_count": null,
   "metadata": {},
   "outputs": [],
   "source": [
    "assert date == datetime(2022, 12, 13).date()"
   ]
  },
  {
   "attachments": {},
   "cell_type": "markdown",
   "metadata": {},
   "source": [
    "### st.checkbox"
   ]
  },
  {
   "cell_type": "code",
   "execution_count": null,
   "metadata": {},
   "outputs": [],
   "source": [
    "# | exporti\n",
    "\n",
    "\n",
    "def _st_checkbox(func_to_decorate):\n",
    "    \"\"\"Decorator to display checkbox in Jupyter notebooks.\"\"\"\n",
    "\n",
    "    @functools.wraps(func_to_decorate)\n",
    "    def wrapper(*args, **kwargs):\n",
    "        if len(args) == 1:\n",
    "            description = args[0]\n",
    "            if \"value\" in kwargs:\n",
    "                value = kwargs[\"value\"]\n",
    "            else:\n",
    "                value = True\n",
    "\n",
    "        elif len(args) == 2:\n",
    "            description, value = args\n",
    "\n",
    "        w = widgets.Checkbox(\n",
    "            value=value, description=description, disabled=False, indent=False\n",
    "        )\n",
    "\n",
    "        display(w)\n",
    "        return w.value\n",
    "\n",
    "    return wrapper"
   ]
  },
  {
   "cell_type": "code",
   "execution_count": null,
   "metadata": {},
   "outputs": [],
   "source": [
    "sp._wrap(\"checkbox\", _st_checkbox)"
   ]
  },
  {
   "cell_type": "code",
   "execution_count": null,
   "metadata": {},
   "outputs": [
    {
     "data": {
      "application/vnd.jupyter.widget-view+json": {
       "model_id": "1a1660c3acfa4474a5a94f1175160395",
       "version_major": 2,
       "version_minor": 0
      },
      "text/plain": [
       "Checkbox(value=True, description='Show code', indent=False)"
      ]
     },
     "metadata": {},
     "output_type": "display_data"
    }
   ],
   "source": [
    "show_code = st.checkbox(\"Show code\")\n",
    "assert show_code"
   ]
  },
  {
   "cell_type": "code",
   "execution_count": null,
   "metadata": {},
   "outputs": [
    {
     "data": {
      "application/vnd.jupyter.widget-view+json": {
       "model_id": "feb9b72dbe69432c9c9c7f46f255cb47",
       "version_major": 2,
       "version_minor": 0
      },
      "text/plain": [
       "Checkbox(value=False, description='Show code', indent=False)"
      ]
     },
     "metadata": {},
     "output_type": "display_data"
    }
   ],
   "source": [
    "show_code = st.checkbox(\"Show code\", value=False)\n",
    "assert not show_code"
   ]
  },
  {
   "attachments": {},
   "cell_type": "markdown",
   "metadata": {},
   "source": [
    "# _st_radio and _st_selectbox"
   ]
  },
  {
   "cell_type": "code",
   "execution_count": null,
   "metadata": {},
   "outputs": [],
   "source": [
    "# | exporti\n",
    "\n",
    "\n",
    "def _st_single_choice(func_to_decorate, jupyter_widget: widgets.Widget):\n",
    "\n",
    "    \"\"\"Decorator to display single choice widget in Jupyter notebooks.\"\"\"\n",
    "\n",
    "    @functools.wraps(func_to_decorate)\n",
    "    def wrapper(*args, **kwargs):\n",
    "        if len(args) < 1:\n",
    "            raise ValueError(\"You must provide at least 1 argument\")\n",
    "        if len(args) == 1:\n",
    "            label = args[0]\n",
    "            options = kwargs[\"options\"]\n",
    "            index = kwargs[\"index\"] if \"index\" in kwargs else 0\n",
    "        elif len(args) == 2:\n",
    "            label, options = args\n",
    "            index = kwargs[\"index\"] if \"index\" in kwargs else 0\n",
    "        elif len(args) == 3:\n",
    "            label, options, index = args\n",
    "\n",
    "        w = jupyter_widget(\n",
    "            options=options,\n",
    "            description=label,\n",
    "            index=index,\n",
    "        )\n",
    "\n",
    "        display(w)\n",
    "        return w.value\n",
    "\n",
    "    return wrapper"
   ]
  },
  {
   "cell_type": "code",
   "execution_count": null,
   "metadata": {},
   "outputs": [],
   "source": [
    "sp._wrap(\n",
    "    \"radio\", functools.partial(_st_single_choice, jupyter_widget=widgets.RadioButtons)\n",
    ")\n",
    "sp._wrap(\n",
    "    \"selectbox\", functools.partial(_st_single_choice, jupyter_widget=widgets.Dropdown)\n",
    ")"
   ]
  },
  {
   "cell_type": "code",
   "execution_count": null,
   "metadata": {},
   "outputs": [
    {
     "data": {
      "application/vnd.jupyter.widget-view+json": {
       "model_id": "ab5ee703aac74640b3eabf75c2914029",
       "version_major": 2,
       "version_minor": 0
      },
      "text/plain": [
       "RadioButtons(description='Pick', index=1, options=('foo', 'bar'), value='bar')"
      ]
     },
     "metadata": {},
     "output_type": "display_data"
    },
    {
     "data": {
      "text/plain": [
       "'bar'"
      ]
     },
     "execution_count": null,
     "metadata": {},
     "output_type": "execute_result"
    }
   ],
   "source": [
    "st.radio(\"Pick\", options=[\"foo\", \"bar\"], index=1, key=\"radio\")"
   ]
  },
  {
   "cell_type": "code",
   "execution_count": null,
   "metadata": {},
   "outputs": [
    {
     "data": {
      "application/vnd.jupyter.widget-view+json": {
       "model_id": "4a946cd8ad95485a98add249a156bb02",
       "version_major": 2,
       "version_minor": 0
      },
      "text/plain": [
       "Dropdown(description='Choose', options=('foo', 'bar'), value='foo')"
      ]
     },
     "metadata": {},
     "output_type": "display_data"
    },
    {
     "data": {
      "text/plain": [
       "'foo'"
      ]
     },
     "execution_count": null,
     "metadata": {},
     "output_type": "execute_result"
    }
   ],
   "source": [
    "st.selectbox(\"Choose\", options=[\"foo\", \"bar\"])"
   ]
  },
  {
   "attachments": {},
   "cell_type": "markdown",
   "metadata": {},
   "source": [
    "### st.multiselect"
   ]
  },
  {
   "cell_type": "code",
   "execution_count": null,
   "metadata": {},
   "outputs": [],
   "source": [
    "# | exporti\n",
    "\n",
    "\n",
    "def _st_multiselect(func_to_decorate):\n",
    "    \"\"\"Decorator to display multiple choice widget in Jupyter notebooks.\"\"\"\n",
    "\n",
    "    @functools.wraps(func_to_decorate)\n",
    "    def wrapper(*args, **kwargs):\n",
    "        if len(args) < 1:\n",
    "            raise ValueError(\"You must provide at least 1 argument\")\n",
    "        if len(args) == 1:\n",
    "            label = args[0]\n",
    "            options = kwargs.get(\"options\")\n",
    "        elif len(args) == 2:\n",
    "            label, options = args\n",
    "            index = kwargs[\"index\"] if \"index\" in kwargs else 0\n",
    "        else:\n",
    "            raise ValueError(\"Too many positional arguments, provide at most 2\")\n",
    "\n",
    "        w = widgets.SelectMultiple(\n",
    "            options=options,\n",
    "            description=label,\n",
    "            value=kwargs.get(\"default\", []),\n",
    "        )\n",
    "\n",
    "        display(w)\n",
    "        return w.value\n",
    "\n",
    "    return wrapper"
   ]
  },
  {
   "cell_type": "code",
   "execution_count": null,
   "metadata": {},
   "outputs": [],
   "source": [
    "sp._wrap(\"multiselect\", _st_multiselect)"
   ]
  },
  {
   "cell_type": "code",
   "execution_count": null,
   "metadata": {},
   "outputs": [
    {
     "data": {
      "application/vnd.jupyter.widget-view+json": {
       "model_id": "5c731e80fc0c4332b357ade8cae8d5ca",
       "version_major": 2,
       "version_minor": 0
      },
      "text/plain": [
       "SelectMultiple(description='Multiselect: ', options=('python', 'golang', 'julia', 'rust'), value=())"
      ]
     },
     "metadata": {},
     "output_type": "display_data"
    },
    {
     "data": {
      "text/plain": [
       "()"
      ]
     },
     "execution_count": null,
     "metadata": {},
     "output_type": "execute_result"
    }
   ],
   "source": [
    "st.multiselect(\"Multiselect: \", options=[\"python\", \"golang\", \"julia\", \"rust\"])"
   ]
  },
  {
   "cell_type": "code",
   "execution_count": null,
   "metadata": {},
   "outputs": [
    {
     "data": {
      "application/vnd.jupyter.widget-view+json": {
       "model_id": "a3be9533e1a045768754850bda968ae7",
       "version_major": 2,
       "version_minor": 0
      },
      "text/plain": [
       "SelectMultiple(description='Multiselect with defaults: ', index=(2, 1), options=('nbdev', 'streamlit', 'jupyte…"
      ]
     },
     "metadata": {},
     "output_type": "display_data"
    },
    {
     "data": {
      "text/plain": [
       "('jupyter', 'streamlit')"
      ]
     },
     "execution_count": null,
     "metadata": {},
     "output_type": "execute_result"
    }
   ],
   "source": [
    "st.multiselect(\n",
    "    \"Multiselect with defaults: \",\n",
    "    options=[\"nbdev\", \"streamlit\", \"jupyter\", \"fastcore\"],\n",
    "    default=[\"jupyter\", \"streamlit\"],\n",
    ")"
   ]
  },
  {
   "attachments": {},
   "cell_type": "markdown",
   "metadata": {},
   "source": [
    "### StreamlitPatcher.MAPPING\n",
    "\n",
    "Mapping is a dictionary that maps the streamlit method to the method we want to use instead.\n",
    "\n",
    "This is used when StreamlitPatcher.jupyter() is called."
   ]
  },
  {
   "cell_type": "code",
   "execution_count": null,
   "metadata": {},
   "outputs": [],
   "source": [
    "# | exporti\n",
    "@patch_to(StreamlitPatcher, as_prop=True)\n",
    "def MAPPING(cls) -> tp.Dict[str, tp.Callable]:\n",
    "    \"\"\"mapping of streamlit methods to their jupyter friendly versions\"\"\"\n",
    "    return {\n",
    "        \"write\": _st_write,\n",
    "        \"title\": functools.partial(_st_heading, tag=\"#\"),\n",
    "        \"header\": functools.partial(_st_heading, tag=\"##\"),\n",
    "        \"subheader\": functools.partial(_st_heading, tag=\"###\"),\n",
    "        \"markdown\": functools.partial(_st_type_check, allowed_types=str),\n",
    "        \"dataframe\": functools.partial(_st_type_check, allowed_types=pd.DataFrame),\n",
    "        \"date_input\": _st_date_input,\n",
    "        \"cache\": _dummy_wrapper_noop,\n",
    "        \"expander\": _st_expander,\n",
    "        \"text_input\": _st_text_input,\n",
    "        \"text_area\": _st_text_input,\n",
    "        \"code\": _st_code,\n",
    "        \"checkbox\": _st_checkbox,\n",
    "        \"radio\": functools.partial(\n",
    "            _st_single_choice, jupyter_widget=widgets.RadioButtons\n",
    "        ),\n",
    "        \"selectbox\": functools.partial(\n",
    "            _st_single_choice, jupyter_widget=widgets.Dropdown\n",
    "        ),\n",
    "        \"multiselect\": _st_multiselect,\n",
    "    }"
   ]
  },
  {
   "cell_type": "code",
   "execution_count": null,
   "metadata": {},
   "outputs": [],
   "source": [
    "sp = StreamlitPatcher()"
   ]
  },
  {
   "cell_type": "code",
   "execution_count": null,
   "metadata": {},
   "outputs": [],
   "source": [
    "assert not sp.registered_methods, \"registered methods should be empty at this point\""
   ]
  },
  {
   "cell_type": "code",
   "execution_count": null,
   "metadata": {},
   "outputs": [
    {
     "data": {
      "text/plain": [
       "{'write': <function __main__._st_write(func_to_decorate)>,\n",
       " 'title': functools.partial(<function _st_heading>, tag='#'),\n",
       " 'header': functools.partial(<function _st_heading>, tag='##'),\n",
       " 'subheader': functools.partial(<function _st_heading>, tag='###'),\n",
       " 'markdown': functools.partial(<function _st_type_check>, allowed_types=<class 'str'>),\n",
       " 'dataframe': functools.partial(<function _st_type_check>, allowed_types=<class 'pandas.core.frame.DataFrame'>),\n",
       " 'date_input': <function __main__._st_date_input(func_to_decorate)>,\n",
       " 'cache': <function __main__._dummy_wrapper_noop(func_to_decorate)>,\n",
       " 'expander': <function __main__._st_expander(cls_to_replace: <bound method LayoutsMixin.expander of DeltaGenerator(_root_container=0, _provided_cursor=None, _parent=None, _block_type=None, _form_data=None)>)>,\n",
       " 'text_input': <function __main__._st_text_input(func_to_decorate)>,\n",
       " 'text_area': <function __main__._st_text_input(func_to_decorate)>,\n",
       " 'code': <function __main__._st_code(func_to_decorate)>,\n",
       " 'checkbox': <function __main__._st_checkbox(func_to_decorate)>,\n",
       " 'radio': functools.partial(<function _st_single_choice>, jupyter_widget=<class 'ipywidgets.widgets.widget_selection.RadioButtons'>),\n",
       " 'selectbox': functools.partial(<function _st_single_choice>, jupyter_widget=<class 'ipywidgets.widgets.widget_selection.Dropdown'>),\n",
       " 'multiselect': <function __main__._st_multiselect(func_to_decorate)>}"
      ]
     },
     "execution_count": null,
     "metadata": {},
     "output_type": "execute_result"
    }
   ],
   "source": [
    "# | hide\n",
    "sp.MAPPING"
   ]
  },
  {
   "cell_type": "code",
   "execution_count": null,
   "metadata": {},
   "outputs": [
    {
     "data": {
      "text/markdown": [
       "---\n",
       "\n",
       "[source](https://github.com/ddobrinskiy/streamlit-jupyter/blob/master/streamlit_jupyter/core.py#L47){target=\"_blank\" style=\"float:right; font-size:smaller\"}\n",
       "\n",
       "### StreamlitPatcher.jupyter\n",
       "\n",
       ">      StreamlitPatcher.jupyter (verbose:bool=False)\n",
       "\n",
       "Registers the current `tqdm` class with\n",
       "    st.\n",
       "    ( write\n",
       "      markdown\n",
       "\n",
       ")"
      ],
      "text/plain": [
       "---\n",
       "\n",
       "[source](https://github.com/ddobrinskiy/streamlit-jupyter/blob/master/streamlit_jupyter/core.py#L47){target=\"_blank\" style=\"float:right; font-size:smaller\"}\n",
       "\n",
       "### StreamlitPatcher.jupyter\n",
       "\n",
       ">      StreamlitPatcher.jupyter (verbose:bool=False)\n",
       "\n",
       "Registers the current `tqdm` class with\n",
       "    st.\n",
       "    ( write\n",
       "      markdown\n",
       "\n",
       ")"
      ]
     },
     "execution_count": null,
     "metadata": {},
     "output_type": "execute_result"
    }
   ],
   "source": [
    "show_doc(StreamlitPatcher.jupyter)"
   ]
  },
  {
   "cell_type": "code",
   "execution_count": null,
   "metadata": {},
   "outputs": [
    {
     "data": {
      "text/plain": [
       "{'cache',\n",
       " 'checkbox',\n",
       " 'code',\n",
       " 'dataframe',\n",
       " 'date_input',\n",
       " 'expander',\n",
       " 'header',\n",
       " 'markdown',\n",
       " 'multiselect',\n",
       " 'radio',\n",
       " 'selectbox',\n",
       " 'subheader',\n",
       " 'text_area',\n",
       " 'text_input',\n",
       " 'title',\n",
       " 'write'}"
      ]
     },
     "execution_count": null,
     "metadata": {},
     "output_type": "execute_result"
    }
   ],
   "source": [
    "sp.jupyter()\n",
    "sp.registered_methods"
   ]
  },
  {
   "cell_type": "code",
   "execution_count": null,
   "metadata": {},
   "outputs": [],
   "source": [
    "# | hide\n",
    "import nbdev\n",
    "\n",
    "nbdev.nbdev_export()"
   ]
  },
  {
   "cell_type": "code",
   "execution_count": null,
   "metadata": {},
   "outputs": [],
   "source": []
  }
 ],
 "metadata": {
  "kernelspec": {
   "display_name": "streamlit-jupyter-lqlnUict",
   "language": "python",
   "name": "python3"
  }
 },
 "nbformat": 4,
 "nbformat_minor": 2
}
